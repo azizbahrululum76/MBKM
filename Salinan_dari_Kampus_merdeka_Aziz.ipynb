{
  "nbformat": 4,
  "nbformat_minor": 0,
  "metadata": {
    "colab": {
      "provenance": [],
      "toc_visible": true,
      "include_colab_link": true
    },
    "kernelspec": {
      "name": "python3",
      "display_name": "Python 3"
    },
    "language_info": {
      "name": "python"
    }
  },
  "cells": [
    {
      "cell_type": "markdown",
      "metadata": {
        "id": "view-in-github",
        "colab_type": "text"
      },
      "source": [
        "<a href=\"https://colab.research.google.com/github/azizbahrululum76/MBKM/blob/main/Salinan_dari_Kampus_merdeka_Aziz.ipynb\" target=\"_parent\"><img src=\"https://colab.research.google.com/assets/colab-badge.svg\" alt=\"Open In Colab\"/></a>"
      ]
    },
    {
      "cell_type": "code",
      "source": [
        "odd=[x for x in range(1,100+1) if x %2!=0] #membuat list bilangan ganjil dari 1 sampai 100\n",
        "squares=[x**2 for x in odd]\n",
        "total=sum(squares)\n",
        "rata2=total/len(squares)\n",
        "print(total)\n",
        "print(rata2)"
      ],
      "metadata": {
        "id": "Q4MNFOHXqdJJ",
        "colab": {
          "base_uri": "https://localhost:8080/"
        },
        "outputId": "4ca9cbe3-03c2-49f8-b6b8-4f2486e88a79"
      },
      "execution_count": 1,
      "outputs": [
        {
          "output_type": "stream",
          "name": "stdout",
          "text": [
            "166650\n",
            "3333.0\n"
          ]
        }
      ]
    },
    {
      "cell_type": "code",
      "source": [
        "even=[x for x in range(1,100+1) if x %2==0] #membuat list bilangan genap dari 1 sampai 100\n",
        "squares=[x**2 for x in even]\n",
        "total=sum(squares)\n",
        "mean=total/len(squares)\n",
        "print(total)\n",
        "print(mean)"
      ],
      "metadata": {
        "colab": {
          "base_uri": "https://localhost:8080/"
        },
        "id": "czcsu6lLywOR",
        "outputId": "eb957b5f-5a5e-4a9b-b60d-7a5e6e81e540"
      },
      "execution_count": 1,
      "outputs": [
        {
          "output_type": "stream",
          "name": "stdout",
          "text": [
            "171700\n",
            "3434.0\n"
          ]
        }
      ]
    },
    {
      "cell_type": "code",
      "source": [
        "a = int(input(\"masukan a= \"))\n",
        "if a<100: #conditional form\n",
        "    print('small value')\n",
        "else:\n",
        "    print('big value')"
      ],
      "metadata": {
        "colab": {
          "base_uri": "https://localhost:8080/"
        },
        "id": "oMiZmOEoncOi",
        "outputId": "51ddefc1-f8f9-475c-fd4b-0716ff950452"
      },
      "execution_count": 2,
      "outputs": [
        {
          "output_type": "stream",
          "name": "stdout",
          "text": [
            "masukan a= 233\n",
            "big value\n"
          ]
        }
      ]
    },
    {
      "cell_type": "code",
      "source": [
        "while True:\n",
        "  a = int(input(\"masukan a= \"))\n",
        "  if a<100:\n",
        "    print('small value')\n",
        "  else:\n",
        "    print('big value')\n",
        "    break"
      ],
      "metadata": {
        "id": "fLY43qi9ofrJ",
        "colab": {
          "base_uri": "https://localhost:8080/"
        },
        "outputId": "0c17447a-47f4-4443-b056-603b91a4a931"
      },
      "execution_count": 3,
      "outputs": [
        {
          "output_type": "stream",
          "name": "stdout",
          "text": [
            "masukan a= 42\n",
            "small value\n",
            "masukan a= 21\n",
            "small value\n",
            "masukan a= 212\n",
            "big value\n"
          ]
        }
      ]
    },
    {
      "cell_type": "code",
      "source": [
        "pas= input(\"password= \")\n",
        "panjang=len(pas)>=5\n",
        "c8=\"8\" in pas\n",
        "cx= \"X\" in pas\n",
        "char=\"@\" in pas\n",
        "if panjang!=True:\n",
        "    print(\"terlalu pendek\")\n",
        "elif c8!=True:\n",
        "    print(\"harus mengandung 8\")\n",
        "elif cx!=True:\n",
        "    print(\"harus mengandng X\")\n",
        "elif char!=True:\n",
        "    print(\"harus mengandng @\")\n",
        "else:\n",
        "    print(\"password valid\")"
      ],
      "metadata": {
        "colab": {
          "base_uri": "https://localhost:8080/"
        },
        "id": "cj24khymFFdK",
        "outputId": "a438afee-5351-47ba-c93d-c263b0578805"
      },
      "execution_count": 8,
      "outputs": [
        {
          "output_type": "stream",
          "name": "stdout",
          "text": [
            "password= 8sab\n",
            "terlalu pendek\n"
          ]
        }
      ]
    },
    {
      "cell_type": "code",
      "source": [
        "while True:\n",
        "    pas= input(\"password= \")\n",
        "    panjang=len(pas)>=5\n",
        "    c4=\"4\" in pas\n",
        "    cz= \"Z\" in pas\n",
        "    char=\"@\" in pas\n",
        "    if panjang!=True:\n",
        "        print(\"terlalu pendek\")\n",
        "    elif c4!=True:\n",
        "        print(\"harus mengandung 4\")\n",
        "    elif cz!=True:\n",
        "        print(\"harus mengandng Z\")\n",
        "    elif char!=True:\n",
        "        print(\"harus mengandng @\")\n",
        "    else:\n",
        "        print(\"password valid\")\n",
        "        break"
      ],
      "metadata": {
        "colab": {
          "base_uri": "https://localhost:8080/"
        },
        "id": "JQmpJWY8F6gU",
        "outputId": "6e3862a0-39d6-4022-d866-8c5256d77b0c"
      },
      "execution_count": 11,
      "outputs": [
        {
          "output_type": "stream",
          "name": "stdout",
          "text": [
            "password= Z4@ahshs\n",
            "password valid\n"
          ]
        }
      ]
    },
    {
      "cell_type": "code",
      "source": [
        "count=0\n",
        "contoh_list=['acc', 'xyz', 'aba', '1221']\n",
        "for i in range(len(contoh_list)):\n",
        "    if(contoh_list[i][0] == contoh_list[i][-1]): #jika karakter pertama dan karakter terakhir sama\n",
        "        count += 1\n",
        "print('jumlah string yg sama=',count)"
      ],
      "metadata": {
        "colab": {
          "base_uri": "https://localhost:8080/"
        },
        "id": "LOs66iMXqnR0",
        "outputId": "b42a210f-d6d6-4cf8-ac4b-9333273af027"
      },
      "execution_count": 12,
      "outputs": [
        {
          "output_type": "stream",
          "name": "stdout",
          "text": [
            "jumlah string yg sama= 2\n"
          ]
        }
      ]
    },
    {
      "cell_type": "code",
      "source": [
        "while True:\n",
        "    kata=input(\"masukan kata= \")\n",
        "    if kata == kata[::-1]:\n",
        "        print(\"string merupakan palidrom\")\n",
        "        break\n",
        "    else:\n",
        "        print(\"string bukan palidrom\")"
      ],
      "metadata": {
        "colab": {
          "base_uri": "https://localhost:8080/"
        },
        "id": "KIAz0YraGEJe",
        "outputId": "dcbd5ecc-7239-4f4f-9497-b388d6c340e2"
      },
      "execution_count": 13,
      "outputs": [
        {
          "output_type": "stream",
          "name": "stdout",
          "text": [
            "masukan kata= ada\n",
            "string merupakan palidrom\n"
          ]
        }
      ]
    },
    {
      "cell_type": "code",
      "source": [
        "def hitung(s):\n",
        "    d={'upper':0,'lower':0}\n",
        "    for x in s:\n",
        "        if x.isupper():\n",
        "            d['upper']+=1\n",
        "        elif x.islower():\n",
        "            d['lower']+=1\n",
        "    print('string kalimat:', s)\n",
        "    print('jumlah huruf kapital:',d['upper'])\n",
        "    print('jumlah huruf kecil',d['lower'])\n",
        "hitung('aAsssSWWWJHSJ')"
      ],
      "metadata": {
        "id": "79-V6Hg-GzsE",
        "outputId": "02736c15-6426-425b-ad56-7413b90df637",
        "colab": {
          "base_uri": "https://localhost:8080/"
        }
      },
      "execution_count": 14,
      "outputs": [
        {
          "output_type": "stream",
          "name": "stdout",
          "text": [
            "string kalimat: aAsssSWWWJHSJ\n",
            "jumlah huruf kapital: 9\n",
            "jumlah huruf kecil 4\n"
          ]
        }
      ]
    },
    {
      "cell_type": "code",
      "source": [
        "#kode menghitung huruf kapital tapi loopingnya diubah jadi while\n",
        "def hitung(s):\n",
        "    d = {'upper': 0, 'lower': 0}\n",
        "    index = 0\n",
        "    while index < len(s):\n",
        "        if s[index].isupper():\n",
        "            d['upper'] += 1\n",
        "        elif s[index].islower():\n",
        "            d['lower'] += 1\n",
        "        index += 1\n",
        "    return d\n",
        "\n",
        "input_string = 'aAsssSWWWJHSJ'\n",
        "result = hitung(input_string)\n",
        "\n",
        "print('string kalimat:', input_string)\n",
        "print('jumlah huruf kapital:', result['upper'])\n",
        "print('jumlah huruf kecil:', result['lower'])"
      ],
      "metadata": {
        "colab": {
          "base_uri": "https://localhost:8080/"
        },
        "id": "q06LiBoRWHWk",
        "outputId": "4cd44664-ad89-4af6-c9f6-f5cbd9d036e1"
      },
      "execution_count": 15,
      "outputs": [
        {
          "output_type": "stream",
          "name": "stdout",
          "text": [
            "string kalimat: aAsssSWWWJHSJ\n",
            "jumlah huruf kapital: 9\n",
            "jumlah huruf kecil: 4\n"
          ]
        }
      ]
    },
    {
      "cell_type": "code",
      "source": [
        "#Kata ganjil\n",
        "list1=[\"ada\",\"sapa\",\"warga\",\"kanopi\",\"layang\",\"tamu\",\"kampus\"]\n",
        "for i in list1:\n",
        "    if len(i)%2==1:\n",
        "        print(i,end=\" \")"
      ],
      "metadata": {
        "colab": {
          "base_uri": "https://localhost:8080/"
        },
        "id": "CrkyyQgmGFJR",
        "outputId": "e196da88-41f5-43e3-aa08-0ca67101e181"
      },
      "execution_count": 16,
      "outputs": [
        {
          "output_type": "stream",
          "name": "stdout",
          "text": [
            "ada warga "
          ]
        }
      ]
    },
    {
      "cell_type": "code",
      "source": [
        "#kata ganjil dengan while\n",
        "list1 = [\"ada\", \"sapa\", \"warga\", \"kanopi\", \"layang\", \"tamu\", \"kampus\"]\n",
        "index = 0\n",
        "\n",
        "while index < len(list1):\n",
        "    if len(list1[index]) % 2 == 1:\n",
        "        print(list1[index], end=\" \")\n",
        "    index += 1"
      ],
      "metadata": {
        "colab": {
          "base_uri": "https://localhost:8080/"
        },
        "id": "-jmFI_oXWWCR",
        "outputId": "04c67fc7-dd87-4c98-9463-130ae4390533"
      },
      "execution_count": 17,
      "outputs": [
        {
          "output_type": "stream",
          "name": "stdout",
          "text": [
            "ada warga "
          ]
        }
      ]
    },
    {
      "cell_type": "code",
      "source": [
        "#kata genap\n",
        "list1=[\"ada\",\"sapa\",\"warga\",\"kanopi\",\"layang\",\"tamu\"]\n",
        "for i in list1:\n",
        "    if len(i)%2==0:\n",
        "        print(i,end=\" \")"
      ],
      "metadata": {
        "colab": {
          "base_uri": "https://localhost:8080/"
        },
        "id": "EolCEUTjsQSH",
        "outputId": "06c7fbaa-d43a-4096-ab3b-1508355231a7"
      },
      "execution_count": 18,
      "outputs": [
        {
          "output_type": "stream",
          "name": "stdout",
          "text": [
            "sapa kanopi layang tamu "
          ]
        }
      ]
    },
    {
      "cell_type": "code",
      "source": [
        "#kata genap dengan while\n",
        "list1 = [\"ada\", \"sapa\", \"warga\", \"kanopi\", \"layang\", \"tamu\"]\n",
        "index = 0\n",
        "\n",
        "while index < len(list1):\n",
        "    if len(list1[index]) % 2 == 0:\n",
        "        print(list1[index], end=\" \")\n",
        "    index += 1"
      ],
      "metadata": {
        "colab": {
          "base_uri": "https://localhost:8080/"
        },
        "id": "e95ulp43XP8X",
        "outputId": "597da107-9650-4f9f-c1c7-0266bb8e555b"
      },
      "execution_count": 19,
      "outputs": [
        {
          "output_type": "stream",
          "name": "stdout",
          "text": [
            "sapa kanopi layang tamu "
          ]
        }
      ]
    }
  ]
}